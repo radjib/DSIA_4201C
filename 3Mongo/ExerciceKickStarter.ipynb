{
 "cells": [
  {
   "cell_type": "markdown",
   "metadata": {},
   "source": [
    "#  Consignes\n",
    "\n",
    "## Description\n",
    "\n",
    "Ouvrir le fichier ks-projects-201801.csv, il recense environ 100 000 projets KickStarter. Intégrer les données directement avec L'API Python dans une base de données Mongo. \n",
    "\n",
    "Il conviendra de bien spécifier manuellement l'ID du document. Pensez aussi à bien formatter le type des données pour profiter des méthodes implémentées par Mongo. L'ensemble de données n'est pas forcément nécessaire, c'est à vous de créer votre modèle de données.\n",
    "\n",
    "## Questions\n",
    "\n",
    "- 1) Récupérer les 5 projets ayant reçu le plus de promesse de dons.\n",
    "- 2) Compter le nombre de projets ayant atteint leur but.\n",
    "- 3) Compter le nombre de projets pour chaque catégorie.\n",
    "- 4) Compter le nombre de projets français ayant été instanciés avant 2016.\n",
    "- 5) Récupérer les projets américains ayant demandé plus de 200 000 dollars.\n",
    "- 6) Compter le nombre de projet ayant \"Sport\" dans leur nom"
   ]
  },
  {
   "cell_type": "code",
   "execution_count": 1,
   "metadata": {},
   "outputs": [],
   "source": [
    "import pandas as pd\n",
    "import pymongo\n",
    "from bson.regex import Regex"
   ]
  },
  {
   "cell_type": "code",
   "execution_count": 2,
   "metadata": {},
   "outputs": [],
   "source": [
    "client = pymongo.MongoClient('mongo')\n",
    "database = client['exercices']\n",
    "collection = database['kickstarter']"
   ]
  },
  {
   "cell_type": "code",
   "execution_count": 3,
   "metadata": {
    "scrolled": false
   },
   "outputs": [
    {
     "name": "stderr",
     "output_type": "stream",
     "text": [
      "/root/.local/share/virtualenvs/code-AFz48Hjb/lib/python3.8/site-packages/IPython/core/interactiveshell.py:3146: DtypeWarning: Columns (6,8,10,12) have mixed types.Specify dtype option on import or set low_memory=False.\n",
      "  has_raised = await self.run_ast_nodes(code_ast.body, cell_name,\n"
     ]
    },
    {
     "data": {
      "text/html": [
       "<div>\n",
       "<style scoped>\n",
       "    .dataframe tbody tr th:only-of-type {\n",
       "        vertical-align: middle;\n",
       "    }\n",
       "\n",
       "    .dataframe tbody tr th {\n",
       "        vertical-align: top;\n",
       "    }\n",
       "\n",
       "    .dataframe thead th {\n",
       "        text-align: right;\n",
       "    }\n",
       "</style>\n",
       "<table border=\"1\" class=\"dataframe\">\n",
       "  <thead>\n",
       "    <tr style=\"text-align: right;\">\n",
       "      <th></th>\n",
       "      <th>ID</th>\n",
       "      <th>name</th>\n",
       "      <th>category</th>\n",
       "      <th>main_category</th>\n",
       "      <th>currency</th>\n",
       "      <th>deadline</th>\n",
       "      <th>goal</th>\n",
       "      <th>launched</th>\n",
       "      <th>pledged</th>\n",
       "      <th>state</th>\n",
       "      <th>backers</th>\n",
       "      <th>country</th>\n",
       "      <th>usd pledged</th>\n",
       "      <th>usd_pledged_real</th>\n",
       "    </tr>\n",
       "  </thead>\n",
       "  <tbody>\n",
       "    <tr>\n",
       "      <th>0</th>\n",
       "      <td>872782264</td>\n",
       "      <td>Scott Cooper's Solo CD \"A Leg Trick\" (Canceled)</td>\n",
       "      <td>Rock</td>\n",
       "      <td>Music</td>\n",
       "      <td>USD</td>\n",
       "      <td>2011-09-16</td>\n",
       "      <td>2000</td>\n",
       "      <td>2011-08-17 06:31:31</td>\n",
       "      <td>1145</td>\n",
       "      <td>canceled</td>\n",
       "      <td>24</td>\n",
       "      <td>US</td>\n",
       "      <td>1145</td>\n",
       "      <td>1145.000000</td>\n",
       "    </tr>\n",
       "    <tr>\n",
       "      <th>1</th>\n",
       "      <td>1326492673</td>\n",
       "      <td>Ohceola jewelry</td>\n",
       "      <td>Fashion</td>\n",
       "      <td>Fashion</td>\n",
       "      <td>USD</td>\n",
       "      <td>2012-08-22</td>\n",
       "      <td>18000</td>\n",
       "      <td>2012-07-23 20:46:48</td>\n",
       "      <td>1851</td>\n",
       "      <td>failed</td>\n",
       "      <td>28</td>\n",
       "      <td>US</td>\n",
       "      <td>1851</td>\n",
       "      <td>1851.000000</td>\n",
       "    </tr>\n",
       "    <tr>\n",
       "      <th>2</th>\n",
       "      <td>1688410639</td>\n",
       "      <td>Sluff Off &amp; Harald: Two latest EGGs are Classi...</td>\n",
       "      <td>Tabletop Games</td>\n",
       "      <td>Games</td>\n",
       "      <td>USD</td>\n",
       "      <td>2016-07-19</td>\n",
       "      <td>2000</td>\n",
       "      <td>2016-07-01 21:55:54</td>\n",
       "      <td>7534</td>\n",
       "      <td>successful</td>\n",
       "      <td>254</td>\n",
       "      <td>US</td>\n",
       "      <td>3796</td>\n",
       "      <td>7534.000000</td>\n",
       "    </tr>\n",
       "    <tr>\n",
       "      <th>3</th>\n",
       "      <td>156812982</td>\n",
       "      <td>SketchPlanner: Create and Plan- all in one bea...</td>\n",
       "      <td>Art Books</td>\n",
       "      <td>Publishing</td>\n",
       "      <td>USD</td>\n",
       "      <td>2017-09-27</td>\n",
       "      <td>13000</td>\n",
       "      <td>2017-08-28 15:47:02</td>\n",
       "      <td>16298</td>\n",
       "      <td>successful</td>\n",
       "      <td>367</td>\n",
       "      <td>US</td>\n",
       "      <td>2670</td>\n",
       "      <td>16298.000000</td>\n",
       "    </tr>\n",
       "    <tr>\n",
       "      <th>4</th>\n",
       "      <td>1835968190</td>\n",
       "      <td>Proven sales with custom motorcycle accessories</td>\n",
       "      <td>Sculpture</td>\n",
       "      <td>Art</td>\n",
       "      <td>CAD</td>\n",
       "      <td>2016-02-24</td>\n",
       "      <td>5000</td>\n",
       "      <td>2016-01-25 17:37:10</td>\n",
       "      <td>1</td>\n",
       "      <td>failed</td>\n",
       "      <td>1</td>\n",
       "      <td>CA</td>\n",
       "      <td>0.708148</td>\n",
       "      <td>0.738225</td>\n",
       "    </tr>\n",
       "  </tbody>\n",
       "</table>\n",
       "</div>"
      ],
      "text/plain": [
       "           ID                                               name  \\\n",
       "0   872782264    Scott Cooper's Solo CD \"A Leg Trick\" (Canceled)   \n",
       "1  1326492673                                    Ohceola jewelry   \n",
       "2  1688410639  Sluff Off & Harald: Two latest EGGs are Classi...   \n",
       "3   156812982  SketchPlanner: Create and Plan- all in one bea...   \n",
       "4  1835968190    Proven sales with custom motorcycle accessories   \n",
       "\n",
       "         category main_category currency    deadline   goal  \\\n",
       "0            Rock         Music      USD  2011-09-16   2000   \n",
       "1         Fashion       Fashion      USD  2012-08-22  18000   \n",
       "2  Tabletop Games         Games      USD  2016-07-19   2000   \n",
       "3       Art Books    Publishing      USD  2017-09-27  13000   \n",
       "4       Sculpture           Art      CAD  2016-02-24   5000   \n",
       "\n",
       "              launched pledged       state backers country usd pledged  \\\n",
       "0  2011-08-17 06:31:31    1145    canceled      24      US        1145   \n",
       "1  2012-07-23 20:46:48    1851      failed      28      US        1851   \n",
       "2  2016-07-01 21:55:54    7534  successful     254      US        3796   \n",
       "3  2017-08-28 15:47:02   16298  successful     367      US        2670   \n",
       "4  2016-01-25 17:37:10       1      failed       1      CA    0.708148   \n",
       "\n",
       "   usd_pledged_real  \n",
       "0       1145.000000  \n",
       "1       1851.000000  \n",
       "2       7534.000000  \n",
       "3      16298.000000  \n",
       "4          0.738225  "
      ]
     },
     "execution_count": 3,
     "metadata": {},
     "output_type": "execute_result"
    }
   ],
   "source": [
    "df_ks = pd.read_csv(\"./data/ks-projects-201801-sample.csv\")\n",
    "df_ks.head()"
   ]
  },
  {
   "cell_type": "markdown",
   "metadata": {},
   "source": [
    "Ce warning intervient lorsque pandas n'arrive pas à inférer le type de données. Il est sympa il précise les colones 6,8,10,12. "
   ]
  },
  {
   "cell_type": "code",
   "execution_count": 4,
   "metadata": {},
   "outputs": [
    {
     "data": {
      "text/plain": [
       "Index(['goal', 'pledged', 'backers', 'usd pledged'], dtype='object')"
      ]
     },
     "execution_count": 4,
     "metadata": {},
     "output_type": "execute_result"
    }
   ],
   "source": [
    "df_ks.columns[[6,8,10,12]]"
   ]
  },
  {
   "cell_type": "markdown",
   "metadata": {},
   "source": [
    "## Question 0"
   ]
  },
  {
   "cell_type": "markdown",
   "metadata": {},
   "source": [
    "### Netoyer les données"
   ]
  },
  {
   "cell_type": "code",
   "execution_count": 5,
   "metadata": {
    "scrolled": true
   },
   "outputs": [],
   "source": [
    "# Conversion des types des colonnes 'launched', Supression des valeurs manquantes \n",
    "df_ks['launched'] = pd.to_datetime(df_ks['launched'], errors='coerce')\n",
    "df_ks = df_ks.dropna(subset = ['launched'])\n",
    "\n",
    "# On renomme la colonne ID\n",
    "df_ks = df_ks.rename(columns = {\"ID\": \"_id\"})"
   ]
  },
  {
   "cell_type": "markdown",
   "metadata": {
    "slideshow": {
     "slide_type": "slide"
    }
   },
   "source": [
    "### Importer les données"
   ]
  },
  {
   "cell_type": "code",
   "execution_count": 6,
   "metadata": {},
   "outputs": [
    {
     "data": {
      "text/plain": [
       "<pymongo.results.InsertManyResult at 0x7fa7000ea880>"
      ]
     },
     "execution_count": 6,
     "metadata": {},
     "output_type": "execute_result"
    }
   ],
   "source": [
    "collection.delete_many({})\n",
    "collection.insert_many(df_ks.to_dict(orient='records'))"
   ]
  },
  {
   "cell_type": "markdown",
   "metadata": {},
   "source": [
    "## Question 1  "
   ]
  },
  {
   "cell_type": "code",
   "execution_count": 7,
   "metadata": {},
   "outputs": [
    {
     "name": "stdout",
     "output_type": "stream",
     "text": [
      "Les promesses de dons ont été les plus fortes pour :  [{'name': 'True North ï¿½ Repurposed Sailcloth Products'}, {'name': 'Scott Davis - Solo Record'}, {'name': 'Polco: A Digital Platform for Better Civic Communication'}, {'name': '2016 Gaming Calendar'}, {'name': 'The Girl in The Mountain - Film'}]\n"
     ]
    }
   ],
   "source": [
    "# Trie selon les promesses de dons decroissantes\n",
    "dons = collection.find({}, {\"name\":1,'_id':0}).sort(\"pledged\", -1).limit(5)\n",
    "print(\"Les promesses de dons ont été les plus fortes pour : \",list(dons))"
   ]
  },
  {
   "cell_type": "markdown",
   "metadata": {},
   "source": [
    "## Question 2"
   ]
  },
  {
   "cell_type": "code",
   "execution_count": 8,
   "metadata": {},
   "outputs": [
    {
     "name": "stdout",
     "output_type": "stream",
     "text": [
      "53040projets ont atteint leur but\n"
     ]
    }
   ],
   "source": [
    "# Comptage du nombre d'éléments dont le but est atteint\n",
    "goal = collection.count_documents({'state' : 'successful'})\n",
    "print(str(goal) + \"projets ont atteint leur but\")"
   ]
  },
  {
   "cell_type": "markdown",
   "metadata": {},
   "source": [
    "## Question 3"
   ]
  },
  {
   "cell_type": "code",
   "execution_count": 9,
   "metadata": {},
   "outputs": [
    {
     "data": {
      "text/plain": [
       "[{'_id': 'Jewelry', 'Nombre de projet': 472},\n",
       " {'_id': 'Drinks', 'Nombre de projet': 995},\n",
       " {'_id': 'Food Trucks', 'Nombre de projet': 687},\n",
       " {'_id': 'Bacon', 'Nombre de projet': 78},\n",
       " {'_id': 'Printing', 'Nombre de projet': 83},\n",
       " {'_id': 'Nature', 'Nombre de projet': 219},\n",
       " {'_id': 'Dance', 'Nombre de projet': 901},\n",
       " {'_id': 'Musical', 'Nombre de projet': 367},\n",
       " {'_id': 'Narrative Film', 'Nombre de projet': 2099},\n",
       " {'_id': 'Immersive', 'Nombre de projet': 131},\n",
       " {'_id': 'Country & Folk', 'Nombre de projet': 1790},\n",
       " {'_id': 'Games', 'Nombre de projet': 1331},\n",
       " {'_id': 'Taxidermy', 'Nombre de projet': 7},\n",
       " {'_id': 'Food', 'Nombre de projet': 4612},\n",
       " {'_id': 'Blues', 'Nombre de projet': 113},\n",
       " {'_id': 'Translations', 'Nombre de projet': 76},\n",
       " {'_id': 'Comic Books', 'Nombre de projet': 1032},\n",
       " {'_id': 'Television', 'Nombre de projet': 401},\n",
       " {'_id': 'Literary Spaces', 'Nombre de projet': 10},\n",
       " {'_id': 'Workshops', 'Nombre de projet': 59},\n",
       " {'_id': 'Public Art', 'Nombre de projet': 1248},\n",
       " {'_id': 'Technology', 'Nombre de projet': 2690},\n",
       " {'_id': 'Animation', 'Nombre de projet': 1017},\n",
       " {'_id': 'Design', 'Nombre de projet': 1641},\n",
       " {'_id': 'Ceramics', 'Nombre de projet': 128},\n",
       " {'_id': 'Space Exploration', 'Nombre de projet': 137},\n",
       " {'_id': 'Quilts', 'Nombre de projet': 32},\n",
       " {'_id': 'Calendars', 'Nombre de projet': 112},\n",
       " {'_id': 'Community Gardens', 'Nombre de projet': 115},\n",
       " {'_id': 'DIY Electronics', 'Nombre de projet': 358},\n",
       " {'_id': 'Candles', 'Nombre de projet': 168},\n",
       " {'_id': 'Graphic Design', 'Nombre de projet': 765},\n",
       " {'_id': 'Robots', 'Nombre de projet': 237},\n",
       " {'_id': 'Performance Art', 'Nombre de projet': 855},\n",
       " {'_id': 'Web', 'Nombre de projet': 2017},\n",
       " {'_id': 'Glass', 'Nombre de projet': 51},\n",
       " {'_id': 'Shorts', 'Nombre de projet': 4857},\n",
       " {'_id': 'Thrillers', 'Nombre de projet': 302},\n",
       " {'_id': 'Documentary', 'Nombre de projet': 6498},\n",
       " {'_id': 'Jazz', 'Nombre de projet': 733},\n",
       " {'_id': 'Photo', 'Nombre de projet': 58},\n",
       " {'_id': 'Gaming Hardware', 'Nombre de projet': 178},\n",
       " {'_id': 'Illustration', 'Nombre de projet': 1263},\n",
       " {'_id': 'Puzzles', 'Nombre de projet': 95},\n",
       " {'_id': 'Video Art', 'Nombre de projet': 65},\n",
       " {'_id': 'Chiptune', 'Nombre de projet': 10},\n",
       " {'_id': 'Rock', 'Nombre de projet': 2707},\n",
       " {'_id': 'Small Batch', 'Nombre de projet': 701},\n",
       " {'_id': 'Textiles', 'Nombre de projet': 105},\n",
       " {'_id': 'Radio & Podcasts', 'Nombre de projet': 349},\n",
       " {'_id': 'Literary Journals', 'Nombre de projet': 118},\n",
       " {'_id': 'Photobooks', 'Nombre de projet': 608},\n",
       " {'_id': 'Punk', 'Nombre de projet': 127},\n",
       " {'_id': 'Accessories', 'Nombre de projet': 1204},\n",
       " {'_id': 'Zines', 'Nombre de projet': 144},\n",
       " {'_id': 'Couture', 'Nombre de projet': 108},\n",
       " {'_id': 'Places', 'Nombre de projet': 283},\n",
       " {'_id': 'Music', 'Nombre de projet': 6229},\n",
       " {'_id': '3D Printing', 'Nombre de projet': 271},\n",
       " {'_id': 'Hardware', 'Nombre de projet': 1431},\n",
       " {'_id': 'Webcomics', 'Nombre de projet': 259},\n",
       " {'_id': 'Apps', 'Nombre de projet': 2535},\n",
       " {'_id': 'Fashion', 'Nombre de projet': 3379},\n",
       " {'_id': 'Drama', 'Nombre de projet': 871},\n",
       " {'_id': 'Apparel', 'Nombre de projet': 2827},\n",
       " {'_id': 'People', 'Nombre de projet': 440},\n",
       " {'_id': 'Events', 'Nombre de projet': 322},\n",
       " {'_id': 'Art', 'Nombre de projet': 3358},\n",
       " {'_id': 'Pop', 'Nombre de projet': 1302},\n",
       " {'_id': 'Product Design', 'Nombre de projet': 8886},\n",
       " {'_id': 'Experimental', 'Nombre de projet': 357},\n",
       " {'_id': 'Romance', 'Nombre de projet': 74},\n",
       " {'_id': 'R&B', 'Nombre de projet': 172},\n",
       " {'_id': 'Classical Music', 'Nombre de projet': 1064},\n",
       " {'_id': 'Faith', 'Nombre de projet': 439},\n",
       " {'_id': 'Embroidery', 'Nombre de projet': 49},\n",
       " {'_id': 'Young Adult', 'Nombre de projet': 328},\n",
       " {'_id': 'Painting', 'Nombre de projet': 1288},\n",
       " {'_id': 'Sound', 'Nombre de projet': 255},\n",
       " {'_id': 'Film & Video', 'Nombre de projet': 4003},\n",
       " {'_id': 'Science Fiction', 'Nombre de projet': 274},\n",
       " {'_id': 'Horror', 'Nombre de projet': 525},\n",
       " {'_id': 'Ready-to-wear', 'Nombre de projet': 332},\n",
       " {'_id': 'Vegan', 'Nombre de projet': 229},\n",
       " {'_id': 'Residencies', 'Nombre de projet': 32},\n",
       " {'_id': 'Music Videos', 'Nombre de projet': 299},\n",
       " {'_id': 'Comedy', 'Nombre de projet': 923},\n",
       " {'_id': 'Installations', 'Nombre de projet': 178},\n",
       " {'_id': 'Playing Cards', 'Nombre de projet': 963},\n",
       " {'_id': 'Woodworking', 'Nombre de projet': 433},\n",
       " {'_id': 'Art Books', 'Nombre de projet': 1065},\n",
       " {'_id': 'Nonfiction', 'Nombre de projet': 3390},\n",
       " {'_id': 'Civic Design', 'Nombre de projet': 130},\n",
       " {'_id': 'Print', 'Nombre de projet': 288},\n",
       " {'_id': 'Webseries', 'Nombre de projet': 2316},\n",
       " {'_id': 'Crafts', 'Nombre de projet': 1834},\n",
       " {'_id': 'Hip-Hop', 'Nombre de projet': 1555},\n",
       " {'_id': 'Electronic Music', 'Nombre de projet': 858},\n",
       " {'_id': 'World Music', 'Nombre de projet': 850},\n",
       " {'_id': 'Spaces', 'Nombre de projet': 331},\n",
       " {'_id': 'Festivals', 'Nombre de projet': 313},\n",
       " {'_id': 'Cookbooks', 'Nombre de projet': 217},\n",
       " {'_id': 'Fiction', 'Nombre de projet': 3703},\n",
       " {'_id': 'Fabrication Tools', 'Nombre de projet': 96},\n",
       " {'_id': 'Plays', 'Nombre de projet': 539},\n",
       " {'_id': 'Fine Art', 'Nombre de projet': 291},\n",
       " {'_id': 'Comics', 'Nombre de projet': 1931},\n",
       " {'_id': 'Anthologies', 'Nombre de projet': 300},\n",
       " {'_id': 'Farms', 'Nombre de projet': 482},\n",
       " {'_id': 'Gadgets', 'Nombre de projet': 1210},\n",
       " {'_id': 'Publishing', 'Nombre de projet': 2332},\n",
       " {'_id': 'Academic', 'Nombre de projet': 367},\n",
       " {'_id': 'Software', 'Nombre de projet': 1194},\n",
       " {'_id': 'Digital Art', 'Nombre de projet': 524},\n",
       " {'_id': 'Makerspaces', 'Nombre de projet': 91},\n",
       " {'_id': 'Movie Theaters', 'Nombre de projet': 90},\n",
       " {'_id': 'Pet Fashion', 'Nombre de projet': 51},\n",
       " {'_id': 'Periodicals', 'Nombre de projet': 517},\n",
       " {'_id': 'Journalism', 'Nombre de projet': 672},\n",
       " {'_id': 'Camera Equipment', 'Nombre de projet': 165},\n",
       " {'_id': 'Metal', 'Nombre de projet': 274},\n",
       " {'_id': 'Action', 'Nombre de projet': 282},\n",
       " {'_id': 'Poetry', 'Nombre de projet': 532},\n",
       " {'_id': 'Architecture', 'Nombre de projet': 300},\n",
       " {'_id': 'Kids', 'Nombre de projet': 109},\n",
       " {'_id': 'Performances', 'Nombre de projet': 414},\n",
       " {'_id': 'Interactive Design', 'Nombre de projet': 146},\n",
       " {'_id': 'Mixed Media', 'Nombre de projet': 1118},\n",
       " {'_id': 'Letterpress', 'Nombre de projet': 24},\n",
       " {'_id': \"Children's Books\", 'Nombre de projet': 2686},\n",
       " {'_id': 'Stationery', 'Nombre de projet': 90},\n",
       " {'_id': 'Video Games', 'Nombre de projet': 4799},\n",
       " {'_id': 'Animals', 'Nombre de projet': 97},\n",
       " {'_id': 'Sculpture', 'Nombre de projet': 737},\n",
       " {'_id': 'Footwear', 'Nombre de projet': 379},\n",
       " {'_id': \"Farmer's Markets\", 'Nombre de projet': 175},\n",
       " {'_id': 'Family', 'Nombre de projet': 130},\n",
       " {'_id': 'Indie Rock', 'Nombre de projet': 2192},\n",
       " {'_id': 'Video', 'Nombre de projet': 147},\n",
       " {'_id': 'Wearables', 'Nombre de projet': 508},\n",
       " {'_id': 'Childrenswear', 'Nombre de projet': 192},\n",
       " {'_id': 'Typography', 'Nombre de projet': 44},\n",
       " {'_id': 'Theater', 'Nombre de projet': 2786},\n",
       " {'_id': 'DIY', 'Nombre de projet': 480},\n",
       " {'_id': 'Crochet', 'Nombre de projet': 61},\n",
       " {'_id': 'Latin', 'Nombre de projet': 63},\n",
       " {'_id': 'Live Games', 'Nombre de projet': 394},\n",
       " {'_id': 'Tabletop Games', 'Nombre de projet': 5581},\n",
       " {'_id': 'Graphic Novels', 'Nombre de projet': 702},\n",
       " {'_id': 'Audio', 'Nombre de projet': 164},\n",
       " {'_id': 'Restaurants', 'Nombre de projet': 1089},\n",
       " {'_id': 'Pottery', 'Nombre de projet': 40},\n",
       " {'_id': 'Weaving', 'Nombre de projet': 38},\n",
       " {'_id': 'Conceptual Art', 'Nombre de projet': 393},\n",
       " {'_id': 'Flight', 'Nombre de projet': 158},\n",
       " {'_id': 'Mobile Games', 'Nombre de projet': 650},\n",
       " {'_id': 'Knitting', 'Nombre de projet': 78},\n",
       " {'_id': 'Fantasy', 'Nombre de projet': 132},\n",
       " {'_id': 'Photography', 'Nombre de projet': 2239}]"
      ]
     },
     "execution_count": 9,
     "metadata": {},
     "output_type": "execute_result"
    }
   ],
   "source": [
    "# Groupement par catégorie de projet \n",
    "projet_par_caté= collection.aggregate([{\"$group\" : {\"_id\" : \"$category\",\"Nombre de projet\" : {\"$sum\" : 1}}}])\n",
    "list(projet_par_caté)"
   ]
  },
  {
   "cell_type": "markdown",
   "metadata": {},
   "source": [
    "## Question 4"
   ]
  },
  {
   "cell_type": "code",
   "execution_count": 10,
   "metadata": {},
   "outputs": [
    {
     "data": {
      "text/plain": [
       "330"
      ]
     },
     "execution_count": 10,
     "metadata": {},
     "output_type": "execute_result"
    }
   ],
   "source": [
    "import datetime\n",
    "year = datetime.datetime.strptime(\"2016-01-01\",'%Y-%m-%d')\n",
    "collection.count_documents({\"$and\" :[{\"launched\" : {\"$lte\" : year}},{\"country\" : \"FR\"}]})"
   ]
  },
  {
   "cell_type": "code",
   "execution_count": 11,
   "metadata": {},
   "outputs": [
    {
     "data": {
      "text/plain": [
       "{'_id': 872782264,\n",
       " 'name': 'Scott Cooper\\'s Solo CD \"A Leg Trick\" (Canceled)',\n",
       " 'category': 'Rock',\n",
       " 'main_category': 'Music',\n",
       " 'currency': 'USD',\n",
       " 'deadline': '2011-09-16',\n",
       " 'goal': 2000.0,\n",
       " 'launched': datetime.datetime(2011, 8, 17, 6, 31, 31),\n",
       " 'pledged': 1145.0,\n",
       " 'state': 'canceled',\n",
       " 'backers': 24,\n",
       " 'country': 'US',\n",
       " 'usd pledged': 1145.0,\n",
       " 'usd_pledged_real': 1145.0}"
      ]
     },
     "execution_count": 11,
     "metadata": {},
     "output_type": "execute_result"
    }
   ],
   "source": [
    "collection.find_one({})"
   ]
  },
  {
   "cell_type": "markdown",
   "metadata": {},
   "source": [
    "## Question 5"
   ]
  },
  {
   "cell_type": "code",
   "execution_count": 12,
   "metadata": {},
   "outputs": [
    {
     "name": "stdout",
     "output_type": "stream",
     "text": [
      "658 projets ont demandé plus de 200 000 dollars aux USA\n"
     ]
    }
   ],
   "source": [
    "# On compte le nombre de projets venant des états Unis (\"US\") avec la contrainte \"usd_pledged_real\">200 000\n",
    "expensive = collection.count_documents({\"$and\":[{\"country\":\"US\"},{\"usd_pledged_real\":{\"$gte\":200000}}]})\n",
    "print(str(expensive)+\" projets ont demandé plus de 200 000 dollars aux USA\")"
   ]
  },
  {
   "cell_type": "markdown",
   "metadata": {},
   "source": [
    "## Question 6 "
   ]
  },
  {
   "cell_type": "code",
   "execution_count": 13,
   "metadata": {},
   "outputs": [
    {
     "name": "stdout",
     "output_type": "stream",
     "text": [
      "323 projets ont sport dans leur nom\n"
     ]
    }
   ],
   "source": [
    "# On compte le nombre de projet avec le mot \"Sport\"\n",
    "with_sport = collection.count_documents({\"name\" : Regex(\"Sport\")})\n",
    "print(str(with_sport)+\" projets ont sport dans leur nom\")"
   ]
  }
 ],
 "metadata": {
  "kernelspec": {
   "display_name": "Python 3",
   "language": "python",
   "name": "python3"
  },
  "language_info": {
   "codemirror_mode": {
    "name": "ipython",
    "version": 3
   },
   "file_extension": ".py",
   "mimetype": "text/x-python",
   "name": "python",
   "nbconvert_exporter": "python",
   "pygments_lexer": "ipython3",
   "version": "3.7.6"
  }
 },
 "nbformat": 4,
 "nbformat_minor": 2
}
